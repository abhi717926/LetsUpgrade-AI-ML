{
 "cells": [
  {
   "cell_type": "markdown",
   "metadata": {},
   "source": [
    "# Question1"
   ]
  },
  {
   "cell_type": "markdown",
   "metadata": {},
   "source": [
    "Assuming that we have some email addresses in the \"username@companyname.com\" format, please write program to print the company name of a given email addresses . Both user and company names are composed of letters only."
   ]
  },
  {
   "cell_type": "code",
   "execution_count": 1,
   "metadata": {},
   "outputs": [
    {
     "name": "stdout",
     "output_type": "stream",
     "text": [
      "Enter the email address in the format 'username@companyname.com':Abhishek@apple.com\n",
      "The company name is: Apple\n"
     ]
    }
   ],
   "source": [
    "i = input(\"Enter the email address in the format 'username@companyname.com':\")\n",
    "i = i.split(\"@\")[1].split(\".\")[0]\n",
    "print(\"The company name is:\", i.title())"
   ]
  },
  {
   "cell_type": "markdown",
   "metadata": {},
   "source": [
    "# Question2"
   ]
  },
  {
   "cell_type": "markdown",
   "metadata": {},
   "source": [
    "Write a program that accepts a comma seperated sequence of words as input and prints the word in a comma seperated sequence \n",
    "after sorting them alphabetically ex.bags,whenever,hello,jun"
   ]
  },
  {
   "cell_type": "code",
   "execution_count": 5,
   "metadata": {},
   "outputs": [
    {
     "name": "stdout",
     "output_type": "stream",
     "text": [
      "Enter a comma seperated sequence of words:bags,whenever,hello,jun\n",
      "Sorted words in a comma seperated sequence: bags,hello,jun,whenever\n"
     ]
    }
   ],
   "source": [
    "i = sorted(input(\"Enter a comma seperated sequence of words:\").split(\",\"))\n",
    "print(\"Sorted words in a comma seperated sequence:\", \",\".join(i))"
   ]
  },
  {
   "cell_type": "markdown",
   "metadata": {},
   "source": [
    "# Question 4"
   ]
  },
  {
   "cell_type": "markdown",
   "metadata": {},
   "source": [
    "Given a list of numbers ranging from 1 to n, your task is to find the missing number. Ther are no duplicates."
   ]
  },
  {
   "cell_type": "code",
   "execution_count": 8,
   "metadata": {},
   "outputs": [
    {
     "name": "stdout",
     "output_type": "stream",
     "text": [
      "Enter a list with elements seperated by a space:1 3 5 4 7 6 \n",
      "The missing number is: 2\n"
     ]
    }
   ],
   "source": [
    "from functools import reduce\n",
    "i = input(\"Enter a list with elements seperated by a space:\").split()\n",
    "user_lst = list(map(int, i))\n",
    "n = max(user_lst)\n",
    "sum_n = n*(n+1)/2\n",
    "sum_lst = reduce(lambda a,b: a+b, user_lst)\n",
    "missing_num = sum_n - sum_lst\n",
    "print(\"The missing number is:\", int(missing_num))"
   ]
  },
  {
   "cell_type": "markdown",
   "metadata": {},
   "source": [
    "# Question 5"
   ]
  },
  {
   "cell_type": "markdown",
   "metadata": {},
   "source": [
    "With a given list L, write a program to print this list L after removing all duplicate values with original order reserved."
   ]
  },
  {
   "cell_type": "code",
   "execution_count": 10,
   "metadata": {},
   "outputs": [
    {
     "name": "stdout",
     "output_type": "stream",
     "text": [
      "Enter a list with elements seperated by a space:10 45 67 10 34 67 85 70 34 \n",
      "Sorted list: 10 45 67 34 85 70\n"
     ]
    }
   ],
   "source": [
    "input_lst = input(\"Enter a list with elements seperated by a space:\").split()\n",
    "user_lst1 = list(dict.fromkeys(input_lst))\n",
    "print(\"Sorted list:\", *user_lst1)"
   ]
  },
  {
   "cell_type": "code",
   "execution_count": null,
   "metadata": {},
   "outputs": [],
   "source": []
  }
 ],
 "metadata": {
  "kernelspec": {
   "display_name": "Python 3",
   "language": "python",
   "name": "python3"
  },
  "language_info": {
   "codemirror_mode": {
    "name": "ipython",
    "version": 3
   },
   "file_extension": ".py",
   "mimetype": "text/x-python",
   "name": "python",
   "nbconvert_exporter": "python",
   "pygments_lexer": "ipython3",
   "version": "3.7.6"
  }
 },
 "nbformat": 4,
 "nbformat_minor": 4
}
