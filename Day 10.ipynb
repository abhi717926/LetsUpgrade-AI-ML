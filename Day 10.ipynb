{
 "cells": [
  {
   "cell_type": "markdown",
   "metadata": {},
   "source": [
    "# Hypothesis 1"
   ]
  },
  {
   "cell_type": "markdown",
   "metadata": {},
   "source": [
    "Statement:\n",
    "\n",
    "The mean monthly income of attired attribute was found to be Rs. 61,000 with a standard deviation of 44890, a sample of 70 attired employees was taken and their mean monthly income was found to be Rs. 64,650"
   ]
  },
  {
   "cell_type": "markdown",
   "metadata": {},
   "source": [
    "# Hypothesis 2"
   ]
  },
  {
   "cell_type": "markdown",
   "metadata": {},
   "source": [
    "Statement:\n",
    "\n",
    "The average age of employee in a company is 35 with standard deviation 10. A researcher belives that if age is less than 35 there is higher attrition rate. Taking a sample of 50 employee with average age being 37 and level of significance is 0.05"
   ]
  },
  {
   "cell_type": "markdown",
   "metadata": {},
   "source": [
    "# Hypothesis 3"
   ]
  },
  {
   "cell_type": "markdown",
   "metadata": {},
   "source": [
    "Statement:\n",
    "\n",
    "The average years of company of attired employee was found to be greater than or equal to 4 years with a standard deviation of 5.96, a sample of 70 attired employee was taken at random and their mean year at the company was found to be 4.44 years"
   ]
  },
  {
   "cell_type": "markdown",
   "metadata": {},
   "source": [
    "# Hypothesis 4"
   ]
  },
  {
   "cell_type": "markdown",
   "metadata": {},
   "source": [
    "Statement:\n",
    "\n",
    "The average monthly income of employee is 65000. A researcher belives that if monthly income is less than 65000 higher attrition occured. Taking a sample of 75 employees with average monthly income is 60000 and standard deviation is 30000."
   ]
  },
  {
   "cell_type": "markdown",
   "metadata": {},
   "source": [
    "# Hypothesis 5"
   ]
  },
  {
   "cell_type": "markdown",
   "metadata": {},
   "source": [
    "Statement:\n",
    "    \n",
    "The mean age of employee who have not attired is found to be equal to 37 years with a standard devuation of 8.89.A sample of 70 \n",
    "employees who have not attired was taken at random and their mean age was found to be 36."
   ]
  },
  {
   "cell_type": "markdown",
   "metadata": {},
   "source": [
    "# Hypothesis 6"
   ]
  },
  {
   "cell_type": "markdown",
   "metadata": {},
   "source": [
    "Statement:\n",
    "    \n",
    "The average distance of employee from work location to home is 9 with standard deviation 15. A researcher belives that if distance from home is greater than 9 higher attrition is observed. Taking a sample of 50 employee with average distance being 10 and level of significance is 0.01"
   ]
  },
  {
   "cell_type": "markdown",
   "metadata": {},
   "source": [
    "# Hypothesis 7"
   ]
  },
  {
   "cell_type": "markdown",
   "metadata": {},
   "source": [
    "Statement:\n",
    "\n",
    "\n",
    "The average number of years spent by an attired employee with current manager was found to be equal to 2.86 with a standard deviation of 3.14 a sample of 25 employee who have attired was taken at random and their average numbers if years spent with current manager was found to be equal to 2.12"
   ]
  },
  {
   "cell_type": "markdown",
   "metadata": {},
   "source": [
    "# Hypothesis 8"
   ]
  },
  {
   "cell_type": "markdown",
   "metadata": {},
   "source": [
    "Statement:\n",
    "\n",
    "The mean percentage in salary hike of the attired employee is greater than or equal to 15% with a standard deviation of 3.78, a sample of 25 employee wh have attired was taken at random and mean percentage in their salary hike was found to be equal to 16.01%\n",
    "\n"
   ]
  },
  {
   "cell_type": "markdown",
   "metadata": {},
   "source": [
    "# Hypothesis 9"
   ]
  },
  {
   "cell_type": "markdown",
   "metadata": {},
   "source": [
    "Statement:\n",
    "\n",
    "The average years at company of employees is 7. A researcher believe that if an employee has an experience of more than 7 years their is higher attrition. Taking a sample of 75 employees with average expierence of 9 years and standard deviation is 5\n",
    "    "
   ]
  },
  {
   "cell_type": "markdown",
   "metadata": {},
   "source": [
    "# Hypothesis 10"
   ]
  },
  {
   "cell_type": "markdown",
   "metadata": {},
   "source": [
    "Statement:\n",
    "\n",
    "The mean salary of attired employee who hav worked in more than 4 companies is found to be Rs.58000 with a standard deviation of 46344, a sample of 100 employees who have attired and worked in more than 4 companies was taken at random and mean salary was found to be 57,955"
   ]
  },
  {
   "cell_type": "code",
   "execution_count": null,
   "metadata": {},
   "outputs": [],
   "source": []
  }
 ],
 "metadata": {
  "kernelspec": {
   "display_name": "Python 3",
   "language": "python",
   "name": "python3"
  },
  "language_info": {
   "codemirror_mode": {
    "name": "ipython",
    "version": 3
   },
   "file_extension": ".py",
   "mimetype": "text/x-python",
   "name": "python",
   "nbconvert_exporter": "python",
   "pygments_lexer": "ipython3",
   "version": "3.7.6"
  }
 },
 "nbformat": 4,
 "nbformat_minor": 4
}
