{
 "cells": [
  {
   "cell_type": "markdown",
   "metadata": {},
   "source": [
    "# Program to find first 20 non-even prime natural number"
   ]
  },
  {
   "cell_type": "code",
   "execution_count": 3,
   "metadata": {},
   "outputs": [
    {
     "name": "stdout",
     "output_type": "stream",
     "text": [
      "3 5 7 9 11 13 15 17 19 21 23 25 27 29 31 33 35 37 39 41 "
     ]
    }
   ],
   "source": [
    "count = 0\n",
    "odd_prime = -1\n",
    "while count<20:\n",
    "    is_prime = True\n",
    "    odd_prime +=2\n",
    "    for integer in range(3, odd_prime, 2):\n",
    "        if odd_prime%integer == 0:\n",
    "            break\n",
    "    if odd_prime != 1 and is_prime:\n",
    "        print(odd_prime, end =\" \")\n",
    "        count+=1\n",
    "        \n",
    "            "
   ]
  },
  {
   "cell_type": "markdown",
   "metadata": {},
   "source": [
    "# Python program to implement 15 functions of string"
   ]
  },
  {
   "cell_type": "code",
   "execution_count": 41,
   "metadata": {},
   "outputs": [
    {
     "name": "stdout",
     "output_type": "stream",
     "text": [
      "Hello abhishek\n",
      "2\n",
      "1\n",
      "False\n",
      "False\n",
      "HHello abhishekeHello abhisheklHello abhisheklHello abhishekoHello abhishek Hello abhishekaHello abhishekbHello abhishekhHello abhishekiHello abhisheksHello abhishekhHello abhishekeHello abhishekk\n",
      "hello abhishek\n",
      "HELLO ABHISHEK\n",
      "Hello abhishek\n",
      "Hello abhishek\n",
      "Hello sbhishek\n",
      "11\n",
      "True\n",
      "14\n",
      "104\n"
     ]
    }
   ],
   "source": [
    "str = \"Hello abhishek\"\n",
    "print(str.capitalize())\n",
    "print(str.count(\"h\"))\n",
    "print(str.find(\"e\"))\n",
    "print(str.islower())\n",
    "print(str.istitle())\n",
    "print(str.join(str))\n",
    "print(str.lower())\n",
    "print(str.upper())\n",
    "print(str.lstrip())\n",
    "print(str.rstrip())\n",
    "print(str.replace(\"a\",\"s\"))\n",
    "print(str.rfind(\"h\"))\n",
    "print(str.startswith(\"H\"))\n",
    "print(len(str))\n",
    "print(ord(\"h\"))\n",
    "\n"
   ]
  },
  {
   "cell_type": "markdown",
   "metadata": {},
   "source": [
    "# Program to check given string is palindrome or anagram or none of them"
   ]
  },
  {
   "cell_type": "code",
   "execution_count": 43,
   "metadata": {},
   "outputs": [
    {
     "name": "stdout",
     "output_type": "stream",
     "text": [
      "Enter the word:earth\n",
      "Enter the word:heart\n",
      "Anagram\n"
     ]
    }
   ],
   "source": [
    "str1=input(\"Enter the word:\")\n",
    "rev_string = str1[::-1]\n",
    "if rev_string ==str1:\n",
    "    print(\"Palindrome\")\n",
    "else:\n",
    "    str2 = input(\"Enter the word:\")\n",
    "    str11=sorted(str1)\n",
    "    str22=sorted(str2)\n",
    "    if str11==str22:\n",
    "        print(\"Anagram\")\n",
    "    else:\n",
    "        print(\"None\")"
   ]
  },
  {
   "cell_type": "markdown",
   "metadata": {},
   "source": [
    "# Create a build-in function that removes all the additional character from the string and convert it finally to lower case using built-in lower()"
   ]
  },
  {
   "cell_type": "code",
   "execution_count": 45,
   "metadata": {},
   "outputs": [
    {
     "name": "stdout",
     "output_type": "stream",
     "text": [
      "String is: Dr. Darshan Ingle @AI-ML Trainer\n",
      "After removing all special character from string\n",
      "Resultant string is:  drdarshaningleaimltrainer\n"
     ]
    }
   ],
   "source": [
    "def replace_char(x):\n",
    "    invalid_list = ['!','@','#','$','%', '^', '&', '*', '(', ')' '+','_', '-', ':', \" \", '?', '.']\n",
    "    for i in invalid_list:\n",
    "        x = x.replace(i,'')\n",
    "        x = x.lower()\n",
    "    print(\"After removing all special character from string\")\n",
    "    print(\"Resultant string is: \",x)\n",
    "str = 'Dr. Darshan Ingle @AI-ML Trainer'\n",
    "print(\"String is:\", str)\n",
    "replace_char(str)"
   ]
  },
  {
   "cell_type": "code",
   "execution_count": null,
   "metadata": {},
   "outputs": [],
   "source": []
  }
 ],
 "metadata": {
  "kernelspec": {
   "display_name": "Python 3",
   "language": "python",
   "name": "python3"
  },
  "language_info": {
   "codemirror_mode": {
    "name": "ipython",
    "version": 3
   },
   "file_extension": ".py",
   "mimetype": "text/x-python",
   "name": "python",
   "nbconvert_exporter": "python",
   "pygments_lexer": "ipython3",
   "version": "3.7.6"
  }
 },
 "nbformat": 4,
 "nbformat_minor": 4
}
