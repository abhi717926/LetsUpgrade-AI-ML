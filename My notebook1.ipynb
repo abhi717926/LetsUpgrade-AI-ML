{
 "cells": [
  {
   "cell_type": "markdown",
   "metadata": {},
   "source": [
    "# W.A.P to subtract two complex number in python"
   ]
  },
  {
   "cell_type": "code",
   "execution_count": 1,
   "metadata": {},
   "outputs": [
    {
     "name": "stdout",
     "output_type": "stream",
     "text": [
      "(2+1j)\n"
     ]
    }
   ],
   "source": [
    "a = 5+2j\n",
    "b = 3+1j\n",
    "c = a-b\n",
    "print(c)"
   ]
  },
  {
   "cell_type": "markdown",
   "metadata": {},
   "source": [
    "# W.A.P to find the fourth root of a number"
   ]
  },
  {
   "cell_type": "code",
   "execution_count": 3,
   "metadata": {},
   "outputs": [
    {
     "name": "stdout",
     "output_type": "stream",
     "text": [
      "Enter a number:36\n",
      "2.449489742783178\n"
     ]
    }
   ],
   "source": [
    "a = int(input(\"Enter a number:\"))\n",
    "b = a**(1/4)\n",
    "print(b)"
   ]
  },
  {
   "cell_type": "markdown",
   "metadata": {},
   "source": [
    "# W.A.P to swap two number in pythn using temporary variable"
   ]
  },
  {
   "cell_type": "code",
   "execution_count": 5,
   "metadata": {},
   "outputs": [
    {
     "name": "stdout",
     "output_type": "stream",
     "text": [
      "Enter a number:4\n",
      "Enter a number:5\n",
      "Before swapping a is 4 and b is 5\n",
      "After swapping a is 5 and b is 4\n"
     ]
    }
   ],
   "source": [
    "a = int(input(\"Enter a number:\"))\n",
    "b = int(input(\"Enter a number:\"))\n",
    "print(\"Before swapping a is\",a,\"and b is\",b)\n",
    "c = a\n",
    "a = b\n",
    "b = c\n",
    "print(\"After swapping a is\",a, \"and b is\",b)"
   ]
  },
  {
   "cell_type": "markdown",
   "metadata": {},
   "source": [
    "# W.A.P to swap two number in python without using a temporary variable"
   ]
  },
  {
   "cell_type": "code",
   "execution_count": 6,
   "metadata": {},
   "outputs": [
    {
     "name": "stdout",
     "output_type": "stream",
     "text": [
      "Enter a number:5\n",
      "Enter a number:6\n",
      "Before swapping a is 5 and b is 6\n",
      "After swapping a is 6 and b is 5\n"
     ]
    }
   ],
   "source": [
    "a = int(input(\"Enter a number:\"))\n",
    "b = int(input(\"Enter a number:\"))\n",
    "print(\"Before swapping a is\",a, \"and b is\",b)\n",
    "a = a+b\n",
    "b = a-b\n",
    "a = a-b\n",
    "print(\"After swapping a is\",a, \"and b is\",b)"
   ]
  },
  {
   "cell_type": "markdown",
   "metadata": {},
   "source": [
    "# W.A.P to convert fahrenheit to kelvin and celsius both"
   ]
  },
  {
   "cell_type": "code",
   "execution_count": 8,
   "metadata": {},
   "outputs": [
    {
     "name": "stdout",
     "output_type": "stream",
     "text": [
      "Enter a temperature in fahrenheit44\n",
      "Temperature in fahrenheit is 44\n",
      "Temperature in celsius is 6.666666666666667\n",
      "Temperature in kelvin is 279.81666666666666\n"
     ]
    }
   ],
   "source": [
    "f = int(input(\"Enter a temperature in fahrenheit\"))\n",
    "c = (f-32)*5/9\n",
    "k = (f-32)*5/9 + 273\n",
    "print(\"Temperature in fahrenheit is\",f)\n",
    "print(\"Temperature in celsius is\",c)\n",
    "print(\"Temperature in kelvin is\",k)"
   ]
  },
  {
   "cell_type": "markdown",
   "metadata": {},
   "source": [
    "# W.A.P to demonstrate all the available data types in python"
   ]
  },
  {
   "cell_type": "code",
   "execution_count": 11,
   "metadata": {},
   "outputs": [
    {
     "name": "stdout",
     "output_type": "stream",
     "text": [
      "<class 'int'>\n",
      "<class 'float'>\n",
      "<class 'str'>\n",
      "<class 'list'>\n",
      "<class 'tuple'>\n"
     ]
    }
   ],
   "source": [
    "a = 5\n",
    "print(type(a))\n",
    "b = 1.3\n",
    "print(type(b))\n",
    "c = \"Abhi\"\n",
    "print(type(c))\n",
    "d = [10,1.5,\"abhi\"]\n",
    "print(type(d))\n",
    "e = (10,6.2,14)\n",
    "print(type(e))"
   ]
  },
  {
   "cell_type": "markdown",
   "metadata": {},
   "source": [
    "# Question 7"
   ]
  },
  {
   "cell_type": "markdown",
   "metadata": {},
   "source": [
    "# Open Git hub 2. Add new repository 3. Repository name 4. Create repository\n",
    "# 5. Add file"
   ]
  }
 ],
 "metadata": {
  "kernelspec": {
   "display_name": "Python 3",
   "language": "python",
   "name": "python3"
  },
  "language_info": {
   "codemirror_mode": {
    "name": "ipython",
    "version": 3
   },
   "file_extension": ".py",
   "mimetype": "text/x-python",
   "name": "python",
   "nbconvert_exporter": "python",
   "pygments_lexer": "ipython3",
   "version": "3.7.6"
  }
 },
 "nbformat": 4,
 "nbformat_minor": 4
}
